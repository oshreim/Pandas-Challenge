{
 "cells": [
  {
   "cell_type": "markdown",
   "metadata": {},
   "source": [
    "### Note\n",
    "* Instructions have been included for each segment. You do not have to follow them exactly, but they are included to help you think through the steps."
   ]
  },
  {
   "cell_type": "code",
   "execution_count": 69,
   "metadata": {
    "scrolled": true
   },
   "outputs": [
    {
     "data": {
      "text/html": [
       "<div>\n",
       "<style scoped>\n",
       "    .dataframe tbody tr th:only-of-type {\n",
       "        vertical-align: middle;\n",
       "    }\n",
       "\n",
       "    .dataframe tbody tr th {\n",
       "        vertical-align: top;\n",
       "    }\n",
       "\n",
       "    .dataframe thead th {\n",
       "        text-align: right;\n",
       "    }\n",
       "</style>\n",
       "<table border=\"1\" class=\"dataframe\">\n",
       "  <thead>\n",
       "    <tr style=\"text-align: right;\">\n",
       "      <th></th>\n",
       "      <th>Purchase ID</th>\n",
       "      <th>SN</th>\n",
       "      <th>Age</th>\n",
       "      <th>Gender</th>\n",
       "      <th>Item ID</th>\n",
       "      <th>Item Name</th>\n",
       "      <th>Price</th>\n",
       "    </tr>\n",
       "  </thead>\n",
       "  <tbody>\n",
       "    <tr>\n",
       "      <td>0</td>\n",
       "      <td>0</td>\n",
       "      <td>Lisim78</td>\n",
       "      <td>20</td>\n",
       "      <td>Male</td>\n",
       "      <td>108</td>\n",
       "      <td>Extraction, Quickblade Of Trembling Hands</td>\n",
       "      <td>3.53</td>\n",
       "    </tr>\n",
       "    <tr>\n",
       "      <td>1</td>\n",
       "      <td>1</td>\n",
       "      <td>Lisovynya38</td>\n",
       "      <td>40</td>\n",
       "      <td>Male</td>\n",
       "      <td>143</td>\n",
       "      <td>Frenzied Scimitar</td>\n",
       "      <td>1.56</td>\n",
       "    </tr>\n",
       "    <tr>\n",
       "      <td>2</td>\n",
       "      <td>2</td>\n",
       "      <td>Ithergue48</td>\n",
       "      <td>24</td>\n",
       "      <td>Male</td>\n",
       "      <td>92</td>\n",
       "      <td>Final Critic</td>\n",
       "      <td>4.88</td>\n",
       "    </tr>\n",
       "    <tr>\n",
       "      <td>3</td>\n",
       "      <td>3</td>\n",
       "      <td>Chamassasya86</td>\n",
       "      <td>24</td>\n",
       "      <td>Male</td>\n",
       "      <td>100</td>\n",
       "      <td>Blindscythe</td>\n",
       "      <td>3.27</td>\n",
       "    </tr>\n",
       "    <tr>\n",
       "      <td>4</td>\n",
       "      <td>4</td>\n",
       "      <td>Iskosia90</td>\n",
       "      <td>23</td>\n",
       "      <td>Male</td>\n",
       "      <td>131</td>\n",
       "      <td>Fury</td>\n",
       "      <td>1.44</td>\n",
       "    </tr>\n",
       "  </tbody>\n",
       "</table>\n",
       "</div>"
      ],
      "text/plain": [
       "   Purchase ID             SN  Age Gender  Item ID  \\\n",
       "0            0        Lisim78   20   Male      108   \n",
       "1            1    Lisovynya38   40   Male      143   \n",
       "2            2     Ithergue48   24   Male       92   \n",
       "3            3  Chamassasya86   24   Male      100   \n",
       "4            4      Iskosia90   23   Male      131   \n",
       "\n",
       "                                   Item Name  Price  \n",
       "0  Extraction, Quickblade Of Trembling Hands   3.53  \n",
       "1                          Frenzied Scimitar   1.56  \n",
       "2                               Final Critic   4.88  \n",
       "3                                Blindscythe   3.27  \n",
       "4                                       Fury   1.44  "
      ]
     },
     "execution_count": 69,
     "metadata": {},
     "output_type": "execute_result"
    }
   ],
   "source": [
    "# Dependencies and Setup\n",
    "import pandas as pd\n",
    "import numpy as np \n",
    "\n",
    "# File to Load (Remember to Change These)\n",
    "file_to_load = \"Resources/purchase_data.csv\"\n",
    "\n",
    "# Read Purchasing File and store into Pandas data frame\n",
    "purchase_data = pd.read_csv(file_to_load)\n",
    "\n",
    "purchase_data.head()"
   ]
  },
  {
   "cell_type": "code",
   "execution_count": 229,
   "metadata": {},
   "outputs": [
    {
     "data": {
      "text/html": [
       "<div>\n",
       "<style scoped>\n",
       "    .dataframe tbody tr th:only-of-type {\n",
       "        vertical-align: middle;\n",
       "    }\n",
       "\n",
       "    .dataframe tbody tr th {\n",
       "        vertical-align: top;\n",
       "    }\n",
       "\n",
       "    .dataframe thead th {\n",
       "        text-align: right;\n",
       "    }\n",
       "</style>\n",
       "<table border=\"1\" class=\"dataframe\">\n",
       "  <thead>\n",
       "    <tr style=\"text-align: right;\">\n",
       "      <th></th>\n",
       "      <th>Purchase ID</th>\n",
       "      <th>Age</th>\n",
       "      <th>Item ID</th>\n",
       "      <th>Price</th>\n",
       "    </tr>\n",
       "    <tr>\n",
       "      <th>Gender</th>\n",
       "      <th></th>\n",
       "      <th></th>\n",
       "      <th></th>\n",
       "      <th></th>\n",
       "    </tr>\n",
       "  </thead>\n",
       "  <tbody>\n",
       "    <tr>\n",
       "      <td>Female</td>\n",
       "      <td>529.259259</td>\n",
       "      <td>29.777778</td>\n",
       "      <td>119.246914</td>\n",
       "      <td>4.468395</td>\n",
       "    </tr>\n",
       "    <tr>\n",
       "      <td>Male</td>\n",
       "      <td>528.762397</td>\n",
       "      <td>30.871901</td>\n",
       "      <td>125.987603</td>\n",
       "      <td>4.065372</td>\n",
       "    </tr>\n",
       "    <tr>\n",
       "      <td>Other / Non-Disclosed</td>\n",
       "      <td>456.272727</td>\n",
       "      <td>33.000000</td>\n",
       "      <td>110.181818</td>\n",
       "      <td>4.562727</td>\n",
       "    </tr>\n",
       "  </tbody>\n",
       "</table>\n",
       "</div>"
      ],
      "text/plain": [
       "                       Purchase ID        Age     Item ID     Price\n",
       "Gender                                                             \n",
       "Female                  529.259259  29.777778  119.246914  4.468395\n",
       "Male                    528.762397  30.871901  125.987603  4.065372\n",
       "Other / Non-Disclosed   456.272727  33.000000  110.181818  4.562727"
      ]
     },
     "execution_count": 229,
     "metadata": {},
     "output_type": "execute_result"
    }
   ],
   "source": [
    "purchase_data.groupby([\"SN\", \"Gender\"]).sum().groupby(\"Gender\").mean()"
   ]
  },
  {
   "cell_type": "markdown",
   "metadata": {},
   "source": [
    "## Player Count"
   ]
  },
  {
   "cell_type": "markdown",
   "metadata": {},
   "source": [
    "* Display the total number of players\n"
   ]
  },
  {
   "cell_type": "code",
   "execution_count": 285,
   "metadata": {},
   "outputs": [
    {
     "name": "stdout",
     "output_type": "stream",
     "text": [
      "Total Number Of Players = 576\n"
     ]
    },
    {
     "data": {
      "text/html": [
       "<div>\n",
       "<style scoped>\n",
       "    .dataframe tbody tr th:only-of-type {\n",
       "        vertical-align: middle;\n",
       "    }\n",
       "\n",
       "    .dataframe tbody tr th {\n",
       "        vertical-align: top;\n",
       "    }\n",
       "\n",
       "    .dataframe thead th {\n",
       "        text-align: right;\n",
       "    }\n",
       "</style>\n",
       "<table border=\"1\" class=\"dataframe\">\n",
       "  <thead>\n",
       "    <tr style=\"text-align: right;\">\n",
       "      <th></th>\n",
       "      <th>Total Players</th>\n",
       "    </tr>\n",
       "  </thead>\n",
       "  <tbody>\n",
       "    <tr>\n",
       "      <td>0</td>\n",
       "      <td>576</td>\n",
       "    </tr>\n",
       "  </tbody>\n",
       "</table>\n",
       "</div>"
      ],
      "text/plain": [
       "   Total Players\n",
       "0            576"
      ]
     },
     "execution_count": 285,
     "metadata": {},
     "output_type": "execute_result"
    }
   ],
   "source": [
    "Total_players= len(purchase_data[\"SN\"].value_counts())\n",
    "player_demo=purchase_data.loc[:,[\"Gender\", \"SN\", \"Age\"]].drop_duplicates() \n",
    "num_players=player_demo.count()[0] \n",
    "num_players\n",
    "\n",
    "print(f\"Total Number Of Players = {Total_players}\") \n",
    "\n",
    "players_df= pd.DataFrame(data=[Total_players]) \n",
    "players_df.columns = [\"Total Players\"]\n",
    "players_df\n",
    "\n",
    " "
   ]
  },
  {
   "cell_type": "markdown",
   "metadata": {},
   "source": [
    "## Purchasing Analysis (Total)"
   ]
  },
  {
   "cell_type": "markdown",
   "metadata": {},
   "source": [
    "* Run basic calculations to obtain number of unique items, average price, etc.\n",
    "\n",
    "\n",
    "* Create a summary data frame to hold the results\n",
    "\n",
    "\n",
    "* Optional: give the displayed data cleaner formatting\n",
    "\n",
    "\n",
    "* Display the summary data frame\n"
   ]
  },
  {
   "cell_type": "code",
   "execution_count": 274,
   "metadata": {
    "scrolled": true
   },
   "outputs": [
    {
     "data": {
      "text/html": [
       "<div>\n",
       "<style scoped>\n",
       "    .dataframe tbody tr th:only-of-type {\n",
       "        vertical-align: middle;\n",
       "    }\n",
       "\n",
       "    .dataframe tbody tr th {\n",
       "        vertical-align: top;\n",
       "    }\n",
       "\n",
       "    .dataframe thead th {\n",
       "        text-align: right;\n",
       "    }\n",
       "</style>\n",
       "<table border=\"1\" class=\"dataframe\">\n",
       "  <thead>\n",
       "    <tr style=\"text-align: right;\">\n",
       "      <th></th>\n",
       "      <th>Number of Unique Items</th>\n",
       "      <th>Average Price</th>\n",
       "      <th>Number of Purchases</th>\n",
       "      <th>Total Revenue</th>\n",
       "    </tr>\n",
       "  </thead>\n",
       "  <tbody>\n",
       "    <tr>\n",
       "      <td>0</td>\n",
       "      <td>183</td>\n",
       "      <td>3.050987</td>\n",
       "      <td>780</td>\n",
       "      <td>2379.77</td>\n",
       "    </tr>\n",
       "  </tbody>\n",
       "</table>\n",
       "</div>"
      ],
      "text/plain": [
       "   Number of Unique Items  Average Price  Number of Purchases  Total Revenue\n",
       "0                     183       3.050987                  780        2379.77"
      ]
     },
     "execution_count": 274,
     "metadata": {},
     "output_type": "execute_result"
    }
   ],
   "source": [
    "unique_items= len(purchase_data[\"Item ID\"].unique())\n",
    "average_price= purchase_data[\"Price\"].mean()\n",
    "total_purchases=purchase_data.shape[0] \n",
    "revenue= purchase_data[\"Price\"].sum() \n",
    "\n",
    "list=[unique_items, average_price, total_purchases, revenue]\n",
    "\n",
    "frame_df= pd.DataFrame(data=[list]) \n",
    "frame_df.columns = ({\"Number of Unique Items\": [unique_items],\n",
    "                     \"Average Price\": [average_price],\n",
    "                     \"Number of Purchases\": [total_purchases], \n",
    "                     \"Total Revenue\":[revenue]}) \n",
    "frame_df\n"
   ]
  },
  {
   "cell_type": "markdown",
   "metadata": {},
   "source": [
    "## Gender Demographics"
   ]
  },
  {
   "cell_type": "markdown",
   "metadata": {},
   "source": [
    "* Percentage and Count of Male Players\n",
    "\n",
    "\n",
    "* Percentage and Count of Female Players\n",
    "\n",
    "\n",
    "* Percentage and Count of Other / Non-Disclosed\n",
    "\n",
    "\n"
   ]
  },
  {
   "cell_type": "code",
   "execution_count": 283,
   "metadata": {},
   "outputs": [
    {
     "data": {
      "text/html": [
       "<style  type=\"text/css\" >\n",
       "</style><table id=\"T_1bafe7e2_3a50_11ea_8e96_4023430cf6a4\" ><thead>    <tr>        <th class=\"blank level0\" ></th>        <th class=\"col_heading level0 col0\" >Total Count</th>        <th class=\"col_heading level0 col1\" >Percentage</th>    </tr></thead><tbody>\n",
       "                <tr>\n",
       "                        <th id=\"T_1bafe7e2_3a50_11ea_8e96_4023430cf6a4level0_row0\" class=\"row_heading level0 row0\" >Male</th>\n",
       "                        <td id=\"T_1bafe7e2_3a50_11ea_8e96_4023430cf6a4row0_col0\" class=\"data row0 col0\" >484</td>\n",
       "                        <td id=\"T_1bafe7e2_3a50_11ea_8e96_4023430cf6a4row0_col1\" class=\"data row0 col1\" >0.840278</td>\n",
       "            </tr>\n",
       "            <tr>\n",
       "                        <th id=\"T_1bafe7e2_3a50_11ea_8e96_4023430cf6a4level0_row1\" class=\"row_heading level0 row1\" >Female</th>\n",
       "                        <td id=\"T_1bafe7e2_3a50_11ea_8e96_4023430cf6a4row1_col0\" class=\"data row1 col0\" >81</td>\n",
       "                        <td id=\"T_1bafe7e2_3a50_11ea_8e96_4023430cf6a4row1_col1\" class=\"data row1 col1\" >0.140625</td>\n",
       "            </tr>\n",
       "            <tr>\n",
       "                        <th id=\"T_1bafe7e2_3a50_11ea_8e96_4023430cf6a4level0_row2\" class=\"row_heading level0 row2\" >Other / Non-Disclosed</th>\n",
       "                        <td id=\"T_1bafe7e2_3a50_11ea_8e96_4023430cf6a4row2_col0\" class=\"data row2 col0\" >11</td>\n",
       "                        <td id=\"T_1bafe7e2_3a50_11ea_8e96_4023430cf6a4row2_col1\" class=\"data row2 col1\" >0.0190972</td>\n",
       "            </tr>\n",
       "    </tbody></table>"
      ],
      "text/plain": [
       "<pandas.io.formats.style.Styler at 0x1a4cc16eb48>"
      ]
     },
     "execution_count": 283,
     "metadata": {},
     "output_type": "execute_result"
    }
   ],
   "source": [
    "Gender_count=player_demo[\"Gender\"].value_counts()\n",
    "Gender_percentage= (Gender_count/ num_players)\n",
    "Gender_df = pd.concat ([Gender_count, Gender_percentage], axis=1)\n",
    "Gender_df.columns = [\"Total Count\", \"Percentage\"]\n",
    "Gender_df.style\n"
   ]
  },
  {
   "cell_type": "markdown",
   "metadata": {},
   "source": [
    "\n",
    "## Purchasing Analysis (Gender)"
   ]
  },
  {
   "cell_type": "code",
   "execution_count": 261,
   "metadata": {},
   "outputs": [
    {
     "data": {
      "text/plain": [
       "<pandas.core.groupby.generic.DataFrameGroupBy object at 0x000001A4CC049E88>"
      ]
     },
     "execution_count": 261,
     "metadata": {},
     "output_type": "execute_result"
    }
   ],
   "source": [
    "purchase_count = purchase_data[\"Gender\"].value_counts()  \n",
    "Average_Purchase_Price =purchase_data.groupby(\"Gender\") \n",
    "Average_Purchase_Price"
   ]
  },
  {
   "cell_type": "markdown",
   "metadata": {},
   "source": [
    "* Run basic calculations to obtain purchase count, avg. purchase price, avg. purchase total per person etc. by gender\n",
    "\n",
    "\n",
    "\n",
    "\n",
    "* Create a summary data frame to hold the results\n",
    "\n",
    "\n",
    "* Optional: give the displayed data cleaner formatting\n",
    "\n",
    "\n",
    "* Display the summary data frame"
   ]
  },
  {
   "cell_type": "code",
   "execution_count": 284,
   "metadata": {},
   "outputs": [
    {
     "data": {
      "text/html": [
       "<div>\n",
       "<style scoped>\n",
       "    .dataframe tbody tr th:only-of-type {\n",
       "        vertical-align: middle;\n",
       "    }\n",
       "\n",
       "    .dataframe tbody tr th {\n",
       "        vertical-align: top;\n",
       "    }\n",
       "\n",
       "    .dataframe thead th {\n",
       "        text-align: right;\n",
       "    }\n",
       "</style>\n",
       "<table border=\"1\" class=\"dataframe\">\n",
       "  <thead>\n",
       "    <tr style=\"text-align: right;\">\n",
       "      <th></th>\n",
       "      <th>Purchase Count</th>\n",
       "      <th>Average Price</th>\n",
       "      <th>Total Purchase Value</th>\n",
       "      <th>Avg Total Purchase Per Person</th>\n",
       "    </tr>\n",
       "  </thead>\n",
       "  <tbody>\n",
       "    <tr>\n",
       "      <td>Female</td>\n",
       "      <td>113</td>\n",
       "      <td>$3.2</td>\n",
       "      <td>$361.93999999999966</td>\n",
       "      <td>$4.4683950617283905</td>\n",
       "    </tr>\n",
       "    <tr>\n",
       "      <td>Male</td>\n",
       "      <td>652</td>\n",
       "      <td>$3.02</td>\n",
       "      <td>$1967.6399999999994</td>\n",
       "      <td>$4.065371900826445</td>\n",
       "    </tr>\n",
       "    <tr>\n",
       "      <td>Other / Non-Disclosed</td>\n",
       "      <td>15</td>\n",
       "      <td>$3.35</td>\n",
       "      <td>$50.190000000000005</td>\n",
       "      <td>$4.562727272727273</td>\n",
       "    </tr>\n",
       "  </tbody>\n",
       "</table>\n",
       "</div>"
      ],
      "text/plain": [
       "                       Purchase Count Average Price Total Purchase Value  \\\n",
       "Female                            113          $3.2  $361.93999999999966   \n",
       "Male                              652         $3.02  $1967.6399999999994   \n",
       "Other / Non-Disclosed              15         $3.35  $50.190000000000005   \n",
       "\n",
       "                      Avg Total Purchase Per Person  \n",
       "Female                          $4.4683950617283905  \n",
       "Male                             $4.065371900826445  \n",
       "Other / Non-Disclosed            $4.562727272727273  "
      ]
     },
     "execution_count": 284,
     "metadata": {},
     "output_type": "execute_result"
    }
   ],
   "source": [
    "purchase_count = purchase_data[\"Gender\"].value_counts()  \n",
    "Average_Purchase_Price = round(purchase_data.groupby([\"Gender\"]).mean()[\"Price\"], 2)\n",
    "Average_Purchase_Price = '$' + Average_Purchase_Price.astype(str)\n",
    "Total_Purchase_Value = purchase_data.groupby([\"Gender\"]).sum()[\"Price\"] \n",
    "\n",
    "\n",
    "Average_Purchase_Total = Total_Purchase_Value / Gender_df[\"Total Count\"] \n",
    "\n",
    "\n",
    "Total_Purchase_Value = '$' + Total_Purchase_Value.astype(str)\n",
    "Average_Purchase_Total = '$' + Average_Purchase_Total.astype(str)\n",
    "\n",
    "purchasing_analysis_df = pd.DataFrame({\"Purchase Count\": purchase_count, \"Average Price\":Average_Purchase_Price,\"Total Purchase Value\": Total_Purchase_Value,\"Avg Total Purchase Per Person\": Average_Purchase_Total})\n",
    "purchasing_analysis_df\n",
    "\n",
    "\n"
   ]
  },
  {
   "cell_type": "raw",
   "metadata": {},
   "source": []
  },
  {
   "cell_type": "markdown",
   "metadata": {},
   "source": [
    "## Age Demographics"
   ]
  },
  {
   "cell_type": "markdown",
   "metadata": {},
   "source": [
    "* Establish bins for ages\n",
    "\n",
    "\n",
    "* Categorize the existing players using the age bins. Hint: use pd.cut()\n",
    "\n",
    "\n",
    "* Calculate the numbers and percentages by age group\n",
    "\n",
    "\n",
    "* Create a summary data frame to hold the results\n",
    "\n",
    "\n",
    "* Optional: round the percentage column to two decimal points\n",
    "\n",
    "\n",
    "* Display Age Demographics Table\n"
   ]
  },
  {
   "cell_type": "code",
   "execution_count": 252,
   "metadata": {},
   "outputs": [
    {
     "data": {
      "text/html": [
       "<div>\n",
       "<style scoped>\n",
       "    .dataframe tbody tr th:only-of-type {\n",
       "        vertical-align: middle;\n",
       "    }\n",
       "\n",
       "    .dataframe tbody tr th {\n",
       "        vertical-align: top;\n",
       "    }\n",
       "\n",
       "    .dataframe thead th {\n",
       "        text-align: right;\n",
       "    }\n",
       "</style>\n",
       "<table border=\"1\" class=\"dataframe\">\n",
       "  <thead>\n",
       "    <tr style=\"text-align: right;\">\n",
       "      <th></th>\n",
       "      <th>Total Number</th>\n",
       "      <th>Percentage</th>\n",
       "    </tr>\n",
       "  </thead>\n",
       "  <tbody>\n",
       "    <tr>\n",
       "      <td>&lt;10</td>\n",
       "      <td>15</td>\n",
       "      <td>2.72</td>\n",
       "    </tr>\n",
       "    <tr>\n",
       "      <td>10-14</td>\n",
       "      <td>107</td>\n",
       "      <td>19.38</td>\n",
       "    </tr>\n",
       "    <tr>\n",
       "      <td>15-19</td>\n",
       "      <td>258</td>\n",
       "      <td>46.74</td>\n",
       "    </tr>\n",
       "    <tr>\n",
       "      <td>20-24</td>\n",
       "      <td>77</td>\n",
       "      <td>13.95</td>\n",
       "    </tr>\n",
       "    <tr>\n",
       "      <td>25-29</td>\n",
       "      <td>52</td>\n",
       "      <td>9.42</td>\n",
       "    </tr>\n",
       "  </tbody>\n",
       "</table>\n",
       "</div>"
      ],
      "text/plain": [
       "       Total Number  Percentage\n",
       "<10              15        2.72\n",
       "10-14           107       19.38\n",
       "15-19           258       46.74\n",
       "20-24            77       13.95\n",
       "25-29            52        9.42"
      ]
     },
     "execution_count": 252,
     "metadata": {},
     "output_type": "execute_result"
    }
   ],
   "source": [
    "Ages = [10, 14, 19, 24, 29, 34, 39, 40, 1000]\n",
    "Group_Names = [\"<10\", \"10-14\", \"15-19\", \"20-24\", \"25-29\", \"30-34\", \"35-39\", \"40+\"] \n",
    "\n",
    "\n",
    "Age_Series = pd.cut(purchase_data.groupby(\"SN\")[\"Age\"].mean(), Ages, labels=Group_Names).value_counts()\n",
    "\n",
    "\n",
    "Age_Percent = round(Age_Series / Age_Series.sum() * 100, 2)\n",
    "Age_df = pd.concat([Age_Series, Age_Percent], axis=1, sort=True)\n",
    "Age_df.columns = [\"Total Number\", \"Percentage\"]\n",
    "Age_df.head()\n",
    " "
   ]
  },
  {
   "cell_type": "markdown",
   "metadata": {},
   "source": [
    "## Purchasing Analysis (Age)"
   ]
  },
  {
   "cell_type": "markdown",
   "metadata": {},
   "source": [
    "* Bin the purchase_data data frame by age\n",
    "\n",
    "\n",
    "* Run basic calculations to obtain purchase count, avg. purchase price, avg. purchase total per person etc. in the table below\n",
    "\n",
    "\n",
    "* Create a summary data frame to hold the results\n",
    "\n",
    "\n",
    "* Optional: give the displayed data cleaner formatting\n",
    "\n",
    "\n",
    "* Display the summary data frame"
   ]
  },
  {
   "cell_type": "code",
   "execution_count": 254,
   "metadata": {},
   "outputs": [
    {
     "data": {
      "text/html": [
       "<div>\n",
       "<style scoped>\n",
       "    .dataframe tbody tr th:only-of-type {\n",
       "        vertical-align: middle;\n",
       "    }\n",
       "\n",
       "    .dataframe tbody tr th {\n",
       "        vertical-align: top;\n",
       "    }\n",
       "\n",
       "    .dataframe thead th {\n",
       "        text-align: right;\n",
       "    }\n",
       "</style>\n",
       "<table border=\"1\" class=\"dataframe\">\n",
       "  <thead>\n",
       "    <tr style=\"text-align: right;\">\n",
       "      <th></th>\n",
       "      <th>Purchase Count</th>\n",
       "      <th>Average Purchase Price</th>\n",
       "      <th>Total Purchase Value</th>\n",
       "    </tr>\n",
       "    <tr>\n",
       "      <th>Age Range</th>\n",
       "      <th></th>\n",
       "      <th></th>\n",
       "      <th></th>\n",
       "    </tr>\n",
       "  </thead>\n",
       "  <tbody>\n",
       "    <tr>\n",
       "      <td>&lt;10</td>\n",
       "      <td>748</td>\n",
       "      <td>$3.4</td>\n",
       "      <td>$50.95</td>\n",
       "    </tr>\n",
       "    <tr>\n",
       "      <td>10-14</td>\n",
       "      <td>748</td>\n",
       "      <td>$3.86</td>\n",
       "      <td>$412.89</td>\n",
       "    </tr>\n",
       "    <tr>\n",
       "      <td>15-19</td>\n",
       "      <td>748</td>\n",
       "      <td>$4.32</td>\n",
       "      <td>$1114.06</td>\n",
       "    </tr>\n",
       "    <tr>\n",
       "      <td>20-24</td>\n",
       "      <td>748</td>\n",
       "      <td>$3.81</td>\n",
       "      <td>$293.0</td>\n",
       "    </tr>\n",
       "    <tr>\n",
       "      <td>25-29</td>\n",
       "      <td>748</td>\n",
       "      <td>$4.12</td>\n",
       "      <td>$214.0</td>\n",
       "    </tr>\n",
       "  </tbody>\n",
       "</table>\n",
       "</div>"
      ],
      "text/plain": [
       "           Purchase Count Average Purchase Price Total Purchase Value\n",
       "Age Range                                                            \n",
       "<10                   748                   $3.4               $50.95\n",
       "10-14                 748                  $3.86              $412.89\n",
       "15-19                 748                  $4.32             $1114.06\n",
       "20-24                 748                  $3.81               $293.0\n",
       "25-29                 748                  $4.12               $214.0"
      ]
     },
     "execution_count": 254,
     "metadata": {},
     "output_type": "execute_result"
    }
   ],
   "source": [
    "Ages = [10, 14, 19, 24, 29, 34, 39, 40, 1000]\n",
    "Group_Names = [\"<10\", \"10-14\", \"15-19\", \"20-24\", \"25-29\", \"30-34\", \"35-39\", \"40+\"]\n",
    "\n",
    "\n",
    "purchase_data[\"Age Range\"] = pd.cut(purchase_data.Age, Ages, labels= Group_Names)\n",
    "Purchase_Count_Age = purchase_data[\"Age Range\"].count()\n",
    "Purchase_Count_Age\n",
    "\n",
    "\n",
    "Average_Purchase_Age =  round(purchase_data.groupby(\"Age Range\")[\"Price\"].mean(), 2)\n",
    "Average_Purchase_Age = '$' + Average_Purchase_Age.astype(str)\n",
    "Total_Purchase_Age = round(purchase_data.groupby(\"Age Range\")[\"Price\"].sum(), 2)\n",
    "Average_Purchase_Age = round(Total_Purchase_Age/ purchase_data.groupby('Age Range')['SN'].nunique(), 2)\n",
    "Total_Purchase_Age = '$' + Total_Purchase_Age.astype(str)\n",
    "Average_Purchase_Age= '$' + Average_Purchase_Age.astype(str)\n",
    "\n",
    "\n",
    "Purchase_df_Age = pd.DataFrame({\"Purchase Count\": Purchase_Count_Age , \"Average Purchase Price\" :Average_Purchase_Age,\"Total Purchase Value\": Total_Purchase_Age})\n",
    "\n",
    "Purchase_df_Age.head()"
   ]
  },
  {
   "cell_type": "markdown",
   "metadata": {},
   "source": [
    "## Top Spenders"
   ]
  },
  {
   "cell_type": "markdown",
   "metadata": {},
   "source": [
    "* Run basic calculations to obtain the results in the table below\n",
    "\n",
    "\n",
    "* Create a summary data frame to hold the results\n",
    "\n",
    "\n",
    "* Sort the total purchase value column in descending order\n",
    "\n",
    "\n",
    "* Optional: give the displayed data cleaner formatting\n",
    "\n",
    "\n",
    "* Display a preview of the summary data frame\n",
    "\n"
   ]
  },
  {
   "cell_type": "code",
   "execution_count": 255,
   "metadata": {},
   "outputs": [
    {
     "data": {
      "text/html": [
       "<style  type=\"text/css\" >\n",
       "</style><table id=\"T_edf579a6_3a3c_11ea_9372_4023430cf6a4\" ><thead>    <tr>        <th class=\"blank level0\" ></th>        <th class=\"col_heading level0 col0\" >Purchase Count</th>        <th class=\"col_heading level0 col1\" >Average Purchase Price</th>        <th class=\"col_heading level0 col2\" >Total Purchase Value</th>    </tr>    <tr>        <th class=\"index_name level0\" >SN</th>        <th class=\"blank\" ></th>        <th class=\"blank\" ></th>        <th class=\"blank\" ></th>    </tr></thead><tbody>\n",
       "                <tr>\n",
       "                        <th id=\"T_edf579a6_3a3c_11ea_9372_4023430cf6a4level0_row0\" class=\"row_heading level0 row0\" >Lisosia93</th>\n",
       "                        <td id=\"T_edf579a6_3a3c_11ea_9372_4023430cf6a4row0_col0\" class=\"data row0 col0\" >5</td>\n",
       "                        <td id=\"T_edf579a6_3a3c_11ea_9372_4023430cf6a4row0_col1\" class=\"data row0 col1\" >3.79</td>\n",
       "                        <td id=\"T_edf579a6_3a3c_11ea_9372_4023430cf6a4row0_col2\" class=\"data row0 col2\" >18.96</td>\n",
       "            </tr>\n",
       "            <tr>\n",
       "                        <th id=\"T_edf579a6_3a3c_11ea_9372_4023430cf6a4level0_row1\" class=\"row_heading level0 row1\" >Idastidru52</th>\n",
       "                        <td id=\"T_edf579a6_3a3c_11ea_9372_4023430cf6a4row1_col0\" class=\"data row1 col0\" >4</td>\n",
       "                        <td id=\"T_edf579a6_3a3c_11ea_9372_4023430cf6a4row1_col1\" class=\"data row1 col1\" >3.86</td>\n",
       "                        <td id=\"T_edf579a6_3a3c_11ea_9372_4023430cf6a4row1_col2\" class=\"data row1 col2\" >15.45</td>\n",
       "            </tr>\n",
       "            <tr>\n",
       "                        <th id=\"T_edf579a6_3a3c_11ea_9372_4023430cf6a4level0_row2\" class=\"row_heading level0 row2\" >Chamjask73</th>\n",
       "                        <td id=\"T_edf579a6_3a3c_11ea_9372_4023430cf6a4row2_col0\" class=\"data row2 col0\" >3</td>\n",
       "                        <td id=\"T_edf579a6_3a3c_11ea_9372_4023430cf6a4row2_col1\" class=\"data row2 col1\" >4.61</td>\n",
       "                        <td id=\"T_edf579a6_3a3c_11ea_9372_4023430cf6a4row2_col2\" class=\"data row2 col2\" >13.83</td>\n",
       "            </tr>\n",
       "            <tr>\n",
       "                        <th id=\"T_edf579a6_3a3c_11ea_9372_4023430cf6a4level0_row3\" class=\"row_heading level0 row3\" >Iral74</th>\n",
       "                        <td id=\"T_edf579a6_3a3c_11ea_9372_4023430cf6a4row3_col0\" class=\"data row3 col0\" >4</td>\n",
       "                        <td id=\"T_edf579a6_3a3c_11ea_9372_4023430cf6a4row3_col1\" class=\"data row3 col1\" >3.4</td>\n",
       "                        <td id=\"T_edf579a6_3a3c_11ea_9372_4023430cf6a4row3_col2\" class=\"data row3 col2\" >13.62</td>\n",
       "            </tr>\n",
       "            <tr>\n",
       "                        <th id=\"T_edf579a6_3a3c_11ea_9372_4023430cf6a4level0_row4\" class=\"row_heading level0 row4\" >Iskadarya95</th>\n",
       "                        <td id=\"T_edf579a6_3a3c_11ea_9372_4023430cf6a4row4_col0\" class=\"data row4 col0\" >3</td>\n",
       "                        <td id=\"T_edf579a6_3a3c_11ea_9372_4023430cf6a4row4_col1\" class=\"data row4 col1\" >4.37</td>\n",
       "                        <td id=\"T_edf579a6_3a3c_11ea_9372_4023430cf6a4row4_col2\" class=\"data row4 col2\" >13.1</td>\n",
       "            </tr>\n",
       "    </tbody></table>"
      ],
      "text/plain": [
       "<pandas.io.formats.style.Styler at 0x1a4cc2e8088>"
      ]
     },
     "execution_count": 255,
     "metadata": {},
     "output_type": "execute_result"
    }
   ],
   "source": [
    "\n",
    "Top_Spender = purchase_data.groupby(\"SN\")[\"Price\"].sum().nlargest(5)\n",
    "Top_Average_Purchase = round(purchase_data.groupby(\"SN\").Price.mean().loc[Top_Spender.index], 2)\n",
    "\n",
    "Top_Non_Purchase = purchase_data.groupby(\"SN\").Price.count().loc[Top_Spender.index]\n",
    "Top_df = pd.concat([Top_Non_Purchase, Top_Average_Purchase, Top_Spender], axis=1)\n",
    "\n",
    "\n",
    "Top_df.columns = [\"Purchase Count\", \"Average Purchase Price\", \"Total Purchase Value\"]\n",
    "Top_df = Top_df.sort_values(by='Total Purchase Value', ascending=False)\n",
    "Top_df.head().style"
   ]
  },
  {
   "cell_type": "markdown",
   "metadata": {},
   "source": [
    "## Most Popular Items"
   ]
  },
  {
   "cell_type": "markdown",
   "metadata": {},
   "source": [
    "* Retrieve the Item ID, Item Name, and Item Price columns\n",
    "\n",
    "\n",
    "* Group by Item ID and Item Name. Perform calculations to obtain purchase count, item price, and total purchase value\n",
    "\n",
    "\n",
    "* Create a summary data frame to hold the results\n",
    "\n",
    "\n",
    "* Sort the purchase count column in descending order\n",
    "\n",
    "\n",
    "* Optional: give the displayed data cleaner formatting\n",
    "\n",
    "\n",
    "* Display a preview of the summary data frame\n",
    "\n"
   ]
  },
  {
   "cell_type": "code",
   "execution_count": 257,
   "metadata": {},
   "outputs": [
    {
     "data": {
      "text/html": [
       "<div>\n",
       "<style scoped>\n",
       "    .dataframe tbody tr th:only-of-type {\n",
       "        vertical-align: middle;\n",
       "    }\n",
       "\n",
       "    .dataframe tbody tr th {\n",
       "        vertical-align: top;\n",
       "    }\n",
       "\n",
       "    .dataframe thead th {\n",
       "        text-align: right;\n",
       "    }\n",
       "</style>\n",
       "<table border=\"1\" class=\"dataframe\">\n",
       "  <thead>\n",
       "    <tr style=\"text-align: right;\">\n",
       "      <th></th>\n",
       "      <th>Item ID</th>\n",
       "      <th>Item Name</th>\n",
       "      <th>Purchase Count</th>\n",
       "      <th>Item Price</th>\n",
       "      <th>Total Purchase Value</th>\n",
       "    </tr>\n",
       "  </thead>\n",
       "  <tbody>\n",
       "    <tr>\n",
       "      <td>0</td>\n",
       "      <td>178</td>\n",
       "      <td>Oathbreaker, Last Hope of the Breaking Storm</td>\n",
       "      <td>12</td>\n",
       "      <td>4.23</td>\n",
       "      <td>50.76</td>\n",
       "    </tr>\n",
       "    <tr>\n",
       "      <td>1</td>\n",
       "      <td>145</td>\n",
       "      <td>Fiery Glass Crusader</td>\n",
       "      <td>9</td>\n",
       "      <td>4.58</td>\n",
       "      <td>41.22</td>\n",
       "    </tr>\n",
       "    <tr>\n",
       "      <td>2</td>\n",
       "      <td>108</td>\n",
       "      <td>Extraction, Quickblade Of Trembling Hands</td>\n",
       "      <td>9</td>\n",
       "      <td>3.53</td>\n",
       "      <td>31.77</td>\n",
       "    </tr>\n",
       "    <tr>\n",
       "      <td>3</td>\n",
       "      <td>82</td>\n",
       "      <td>Nirvana</td>\n",
       "      <td>9</td>\n",
       "      <td>4.90</td>\n",
       "      <td>44.10</td>\n",
       "    </tr>\n",
       "    <tr>\n",
       "      <td>4</td>\n",
       "      <td>19</td>\n",
       "      <td>Pursuit, Cudgel of Necromancy</td>\n",
       "      <td>8</td>\n",
       "      <td>1.02</td>\n",
       "      <td>8.16</td>\n",
       "    </tr>\n",
       "  </tbody>\n",
       "</table>\n",
       "</div>"
      ],
      "text/plain": [
       "   Item ID                                     Item Name  Purchase Count  \\\n",
       "0      178  Oathbreaker, Last Hope of the Breaking Storm              12   \n",
       "1      145                          Fiery Glass Crusader               9   \n",
       "2      108     Extraction, Quickblade Of Trembling Hands               9   \n",
       "3       82                                       Nirvana               9   \n",
       "4       19                 Pursuit, Cudgel of Necromancy               8   \n",
       "\n",
       "   Item Price  Total Purchase Value  \n",
       "0        4.23                 50.76  \n",
       "1        4.58                 41.22  \n",
       "2        3.53                 31.77  \n",
       "3        4.90                 44.10  \n",
       "4        1.02                  8.16  "
      ]
     },
     "execution_count": 257,
     "metadata": {},
     "output_type": "execute_result"
    }
   ],
   "source": [
    " \n",
    "New_df = purchase_data[[\"Item ID\", \"Item Name\", \"Price\"]]\n",
    "\n",
    "New_df_group = New_df.groupby('Item ID')\n",
    "\n",
    "\n",
    "ItemName = New_df[['Item ID', 'Item Name']]\n",
    "\n",
    "ItemPrice = New_df[['Item ID', 'Price']]\n",
    "\n",
    "\n",
    "ItemCounts = New_df_group.count()\n",
    "\n",
    "ItemSums = New_df_group.sum()\n",
    "\n",
    "ItemCountsBest = ItemCounts.sort_values('Item Name', ascending=False).head()\n",
    "\n",
    "ItemCountsBest = ItemCountsBest.rename(columns={'Item Name':'Purchase Count'})\n",
    "\n",
    "ItemCountsBest = ItemCountsBest.reset_index()\n",
    "\n",
    "ItemCountsBest = ItemCountsBest[[\"Item ID\", \"Purchase Count\"]]\n",
    "\n",
    "ItemCountData = ItemCountsBest.merge(ItemName, left_on='Item ID', right_on='Item ID')\n",
    "\n",
    "ItemCountData = ItemCountData.merge(ItemPrice, left_on='Item ID', right_on='Item ID')\n",
    "\n",
    "ItemCountData = ItemCountData.merge(ItemSums, left_on='Item ID', right_on='Item ID')\n",
    "\n",
    "ItemCountData = ItemCountData.drop_duplicates(keep='first')\n",
    "\n",
    "ItemCountData = ItemCountData.reset_index()\n",
    "\n",
    "ItemCountData = ItemCountData.rename(columns={'Price_x':'Item Price'})\n",
    "\n",
    "ItemCountData = ItemCountData.rename(columns={'Price_y':'Total Purchase Value'})\n",
    "\n",
    "ItemCountData = ItemCountData[['Item ID', 'Item Name', 'Purchase Count', 'Item Price', 'Total Purchase Value']]\n",
    "\n",
    "\n",
    "ItemCountData"
   ]
  },
  {
   "cell_type": "markdown",
   "metadata": {},
   "source": [
    "## Most Profitable Items"
   ]
  },
  {
   "cell_type": "markdown",
   "metadata": {},
   "source": [
    "* Sort the above table by total purchase value in descending order\n",
    "\n",
    "\n",
    "* Optional: give the displayed data cleaner formatting\n",
    "\n",
    "\n",
    "* Display a preview of the data frame\n",
    "\n"
   ]
  },
  {
   "cell_type": "code",
   "execution_count": 259,
   "metadata": {
    "scrolled": true
   },
   "outputs": [
    {
     "data": {
      "text/html": [
       "<div>\n",
       "<style scoped>\n",
       "    .dataframe tbody tr th:only-of-type {\n",
       "        vertical-align: middle;\n",
       "    }\n",
       "\n",
       "    .dataframe tbody tr th {\n",
       "        vertical-align: top;\n",
       "    }\n",
       "\n",
       "    .dataframe thead th {\n",
       "        text-align: right;\n",
       "    }\n",
       "</style>\n",
       "<table border=\"1\" class=\"dataframe\">\n",
       "  <thead>\n",
       "    <tr style=\"text-align: right;\">\n",
       "      <th></th>\n",
       "      <th>Item ID</th>\n",
       "      <th>Item Name</th>\n",
       "      <th>Purchase Count</th>\n",
       "      <th>Item Price</th>\n",
       "      <th>Total Purchase Value</th>\n",
       "    </tr>\n",
       "  </thead>\n",
       "  <tbody>\n",
       "    <tr>\n",
       "      <td>0</td>\n",
       "      <td>178</td>\n",
       "      <td>Oathbreaker, Last Hope of the Breaking Storm</td>\n",
       "      <td>12</td>\n",
       "      <td>4.23</td>\n",
       "      <td>50.76</td>\n",
       "    </tr>\n",
       "    <tr>\n",
       "      <td>1</td>\n",
       "      <td>82</td>\n",
       "      <td>Nirvana</td>\n",
       "      <td>9</td>\n",
       "      <td>4.90</td>\n",
       "      <td>44.10</td>\n",
       "    </tr>\n",
       "    <tr>\n",
       "      <td>2</td>\n",
       "      <td>145</td>\n",
       "      <td>Fiery Glass Crusader</td>\n",
       "      <td>9</td>\n",
       "      <td>4.58</td>\n",
       "      <td>41.22</td>\n",
       "    </tr>\n",
       "    <tr>\n",
       "      <td>3</td>\n",
       "      <td>92</td>\n",
       "      <td>Final Critic</td>\n",
       "      <td>8</td>\n",
       "      <td>4.88</td>\n",
       "      <td>39.04</td>\n",
       "    </tr>\n",
       "    <tr>\n",
       "      <td>4</td>\n",
       "      <td>103</td>\n",
       "      <td>Singed Scalpel</td>\n",
       "      <td>8</td>\n",
       "      <td>4.35</td>\n",
       "      <td>34.80</td>\n",
       "    </tr>\n",
       "  </tbody>\n",
       "</table>\n",
       "</div>"
      ],
      "text/plain": [
       "   Item ID                                     Item Name  Purchase Count  \\\n",
       "0      178  Oathbreaker, Last Hope of the Breaking Storm              12   \n",
       "1       82                                       Nirvana               9   \n",
       "2      145                          Fiery Glass Crusader               9   \n",
       "3       92                                  Final Critic               8   \n",
       "4      103                                Singed Scalpel               8   \n",
       "\n",
       "   Item Price  Total Purchase Value  \n",
       "0        4.23                 50.76  \n",
       "1        4.90                 44.10  \n",
       "2        4.58                 41.22  \n",
       "3        4.88                 39.04  \n",
       "4        4.35                 34.80  "
      ]
     },
     "execution_count": 259,
     "metadata": {},
     "output_type": "execute_result"
    }
   ],
   "source": [
    "\n",
    "\n",
    "\n",
    "New_df = purchase_data[[\"Item ID\", \"Item Name\", \"Price\"]]\n",
    "\n",
    "New_df_group = New_df.groupby('Item ID')\n",
    "\n",
    "\n",
    "ItemName = New_df[['Item ID', 'Item Name']]\n",
    "\n",
    "ItemPrice = New_df[['Item ID', 'Price']]\n",
    "\n",
    "\n",
    "ItemCounts = New_df_group.count()\n",
    "\n",
    "ItemSums = New_df_group.sum()\n",
    "\n",
    "ItemSumsBest = ItemSums.sort_values('Price', ascending=False).head()\n",
    "\n",
    "\n",
    "ItemSumsBest = ItemSumsBest.rename(columns={'Price':'Total Purchase Value'})\n",
    "\n",
    "ItemSumsBest = ItemSumsBest.reset_index()\n",
    "\n",
    "ItemSumsBest = ItemSumsBest[[\"Item ID\", \"Total Purchase Value\"]]\n",
    "\n",
    "ItemSumsBest = ItemSumsBest.merge(ItemName, left_on='Item ID', right_on='Item ID')\n",
    "\n",
    "ItemSumsBest = ItemSumsBest.merge(ItemPrice, left_on='Item ID', right_on='Item ID')\n",
    "\n",
    "ItemSumsBest = ItemSumsBest.merge(ItemCounts, left_on='Item ID', right_on='Item ID')\n",
    "\n",
    "ItemSumData = ItemSumsBest.drop_duplicates(keep='first')\n",
    "\n",
    "ItemSumData = ItemSumData.reset_index()\n",
    "\n",
    "ItemSumData = ItemSumData.rename(columns={'Price_x':'Item Price'})\n",
    "\n",
    "ItemSumData = ItemSumData.rename(columns={'Price_y':'Purchase Count'})\n",
    "\n",
    "ItemSumData = ItemSumData.rename(columns={'Item Name_x':'Item Name'})\n",
    "\n",
    "ItemSumData = ItemSumData[['Item ID', 'Item Name', 'Purchase Count', 'Item Price', 'Total Purchase Value']]\n",
    "\n",
    "\n",
    "ItemSumData\n",
    "\n",
    "\n",
    "\n",
    "\n"
   ]
  },
  {
   "cell_type": "code",
   "execution_count": null,
   "metadata": {},
   "outputs": [],
   "source": [
    "#1st Observation: The Item that was most purchased at the lowest price and had the highest purchase value is the \"Oathbreaker, Last Hope of the Breaking Storm\"\n",
    "#2nd Observation: The Gender that dominated purchases were Males.\n",
    "#3rd Observation: The Least Age group that purchased games are 40 years of Age and above."
   ]
  }
 ],
 "metadata": {
  "anaconda-cloud": {},
  "kernel_info": {
   "name": "python3"
  },
  "kernelspec": {
   "display_name": "Python 3",
   "language": "python",
   "name": "python3"
  },
  "language_info": {
   "codemirror_mode": {
    "name": "ipython",
    "version": 3
   },
   "file_extension": ".py",
   "mimetype": "text/x-python",
   "name": "python",
   "nbconvert_exporter": "python",
   "pygments_lexer": "ipython3",
   "version": "3.7.4"
  },
  "latex_envs": {
   "LaTeX_envs_menu_present": true,
   "autoclose": false,
   "autocomplete": true,
   "bibliofile": "biblio.bib",
   "cite_by": "apalike",
   "current_citInitial": 1,
   "eqLabelWithNumbers": true,
   "eqNumInitial": 1,
   "hotkeys": {
    "equation": "Ctrl-E",
    "itemize": "Ctrl-I"
   },
   "labels_anchors": false,
   "latex_user_defs": false,
   "report_style_numbering": false,
   "user_envs_cfg": false
  },
  "nteract": {
   "version": "0.2.0"
  }
 },
 "nbformat": 4,
 "nbformat_minor": 2
}
